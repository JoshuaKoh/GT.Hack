{
 "cells": [
  {
   "cell_type": "code",
   "execution_count": 2,
   "metadata": {},
   "outputs": [
    {
     "data": {
      "text/html": [
       "<div>\n",
       "<table border=\"1\" class=\"dataframe\">\n",
       "  <thead>\n",
       "    <tr style=\"text-align: right;\">\n",
       "      <th></th>\n",
       "      <th>order_number</th>\n",
       "      <th>product_id</th>\n",
       "      <th>customer_id</th>\n",
       "      <th>product_name</th>\n",
       "      <th>department_id</th>\n",
       "      <th>price</th>\n",
       "    </tr>\n",
       "  </thead>\n",
       "  <tbody>\n",
       "    <tr>\n",
       "      <th>0</th>\n",
       "      <td>2</td>\n",
       "      <td>33120</td>\n",
       "      <td>202279</td>\n",
       "      <td>Organic Egg Whites</td>\n",
       "      <td>16</td>\n",
       "      <td>5.33</td>\n",
       "    </tr>\n",
       "    <tr>\n",
       "      <th>1</th>\n",
       "      <td>5</td>\n",
       "      <td>48370</td>\n",
       "      <td>156122</td>\n",
       "      <td>Sensitive Toilet Paper</td>\n",
       "      <td>17</td>\n",
       "      <td>9.33</td>\n",
       "    </tr>\n",
       "    <tr>\n",
       "      <th>2</th>\n",
       "      <td>7</td>\n",
       "      <td>46802</td>\n",
       "      <td>142903</td>\n",
       "      <td>Pineapple Chunks</td>\n",
       "      <td>1</td>\n",
       "      <td>6.76</td>\n",
       "    </tr>\n",
       "    <tr>\n",
       "      <th>3</th>\n",
       "      <td>10</td>\n",
       "      <td>3464</td>\n",
       "      <td>135442</td>\n",
       "      <td>Organic Butterhead (Boston, Butter, Bibb) Lettuce</td>\n",
       "      <td>4</td>\n",
       "      <td>9.00</td>\n",
       "    </tr>\n",
       "    <tr>\n",
       "      <th>4</th>\n",
       "      <td>10</td>\n",
       "      <td>25720</td>\n",
       "      <td>135442</td>\n",
       "      <td>Organic Sunchoke</td>\n",
       "      <td>4</td>\n",
       "      <td>10.06</td>\n",
       "    </tr>\n",
       "  </tbody>\n",
       "</table>\n",
       "</div>"
      ],
      "text/plain": [
       "   order_number  product_id  customer_id  \\\n",
       "0             2       33120       202279   \n",
       "1             5       48370       156122   \n",
       "2             7       46802       142903   \n",
       "3            10        3464       135442   \n",
       "4            10       25720       135442   \n",
       "\n",
       "                                        product_name  department_id  price  \n",
       "0                                 Organic Egg Whites             16   5.33  \n",
       "1                             Sensitive Toilet Paper             17   9.33  \n",
       "2                                   Pineapple Chunks              1   6.76  \n",
       "3  Organic Butterhead (Boston, Butter, Bibb) Lettuce              4   9.00  \n",
       "4                                   Organic Sunchoke              4  10.06  "
      ]
     },
     "execution_count": 2,
     "metadata": {},
     "output_type": "execute_result"
    }
   ],
   "source": [
    "import pandas as pd\n",
    "\n",
    "df = pd.read_csv('Data/10000_transactions.csv', engine=\"python\")\n",
    "df.head()"
   ]
  },
  {
   "cell_type": "markdown",
   "metadata": {},
   "source": [
    "## How many items are sold for \\$0.94?\n",
    "More items are priced at \\$0.94 than any other. How many of these products are being sold? How much money could be saved if we sold these items for \\$0.99 instead?"
   ]
  },
  {
   "cell_type": "code",
   "execution_count": null,
   "metadata": {},
   "outputs": [],
   "source": []
  },
  {
   "cell_type": "code",
   "execution_count": null,
   "metadata": {},
   "outputs": [],
   "source": []
  },
  {
   "cell_type": "code",
   "execution_count": null,
   "metadata": {},
   "outputs": [],
   "source": []
  },
  {
   "cell_type": "code",
   "execution_count": 6,
   "metadata": {},
   "outputs": [
    {
     "name": "stdout",
     "output_type": "stream",
     "text": [
      "Number of products sold at $0.94: 52\n",
      "Profit if sold at $0.99: 2.60\n"
     ]
    }
   ],
   "source": [
    "product094 = df[df['price'] == 0.94]\n",
    "sold094 = len(product094)\n",
    "actualRevenue=sold094*0.94\n",
    "\n",
    "suggestedPrice=0.99\n",
    "suggestedRevenue=0.99 * sold094\n",
    "revenueDelta=suggestedRevenue-actualRevenue\n",
    "\n",
    "print(\"Number of products sold at $0.94: \\n%i\" % sold094)\n",
    "print(\"Profit if sold at $0.99: \\n$%.2f\" % revenueDelta)"
   ]
  },
  {
   "cell_type": "markdown",
   "metadata": {},
   "source": [
    "What would happen if we rounded every price to the nearest highest nine-cent value? How would the "
   ]
  }
 ],
 "metadata": {
  "kernelspec": {
   "display_name": "Python 2",
   "language": "python",
   "name": "python2"
  },
  "language_info": {
   "codemirror_mode": {
    "name": "ipython",
    "version": 2
   },
   "file_extension": ".py",
   "mimetype": "text/x-python",
   "name": "python",
   "nbconvert_exporter": "python",
   "pygments_lexer": "ipython2",
   "version": "2.7.10"
  }
 },
 "nbformat": 4,
 "nbformat_minor": 2
}
