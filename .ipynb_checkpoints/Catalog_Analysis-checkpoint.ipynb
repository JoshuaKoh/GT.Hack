{
 "cells": [
  {
   "cell_type": "markdown",
   "metadata": {},
   "source": [
    "# Exploratory Analysis of NCS Catalog & Transaction Data\n",
    "\n",
    "### Table of Contents\n",
    "1. [Are We Charging the Right Amount?](#What-is-the-distribution-of-prices,-and-how-many-things-cost-the-same?)\n",
    "2. [How Much Money Are We Not Making?](#How-much-money-are-we-not-making?)\n",
    "3. [What Does \"Department\" Mean?](#Are-some-departments-more-expensive-than-others?)\n",
    "4. [Are Gluten-Free and Organic Products More Expensive?](#Are-gluten-free-or-organic-products-more-expensive?)\n",
    "5. [Is it Worth Selling Gluten-Free and Organic Products?](#Which-departments-carry-the-most-organic-products?-Which-ones-sell?)\n",
    "6. [What Are the Popular Products?](#What-are-the-most-popular-elements-of-products?)\n",
    "7. [Why Do Spending Customers Keep Coming Back?](#Who-are-you-best-and-worst-customers?-Why?)\n",
    "8. [If a Customer Buys Avocado, What Else Will They Buy?](#)\n",
    "8. [Summary](#Summary)"
   ]
  },
  {
   "cell_type": "code",
   "execution_count": 1,
   "metadata": {},
   "outputs": [],
   "source": [
    "import pandas as pd\n",
    "import numpy as np\n",
    "import matplotlib.pyplot as plt\n",
    "from collections import Counter\n",
    "from wordcloud import WordCloud"
   ]
  },
  {
   "cell_type": "markdown",
   "metadata": {},
   "source": [
    "Read in the data file and view the first few rows."
   ]
  },
  {
   "cell_type": "code",
   "execution_count": 2,
   "metadata": {
    "scrolled": true
   },
   "outputs": [
    {
     "data": {
      "text/html": [
       "<div>\n",
       "<table border=\"1\" class=\"dataframe\">\n",
       "  <thead>\n",
       "    <tr style=\"text-align: right;\">\n",
       "      <th></th>\n",
       "      <th>prod_id</th>\n",
       "      <th>prod_name</th>\n",
       "      <th>department_id</th>\n",
       "      <th>price</th>\n",
       "    </tr>\n",
       "  </thead>\n",
       "  <tbody>\n",
       "    <tr>\n",
       "      <th>0</th>\n",
       "      <td>36235</td>\n",
       "      <td>Organic Pure Extra Virgin Coconut Oil</td>\n",
       "      <td>13</td>\n",
       "      <td>12.02</td>\n",
       "    </tr>\n",
       "    <tr>\n",
       "      <th>1</th>\n",
       "      <td>24879</td>\n",
       "      <td>Pepperidge Farm® Goldfish Queso Fiesta Baked S...</td>\n",
       "      <td>19</td>\n",
       "      <td>4.17</td>\n",
       "    </tr>\n",
       "    <tr>\n",
       "      <th>2</th>\n",
       "      <td>37062</td>\n",
       "      <td>Pineapple Coconut Water Enhancer</td>\n",
       "      <td>7</td>\n",
       "      <td>8.77</td>\n",
       "    </tr>\n",
       "    <tr>\n",
       "      <th>3</th>\n",
       "      <td>7770</td>\n",
       "      <td>Quick-Tie Tall Kitchen Bags Gallon - 35 CT</td>\n",
       "      <td>17</td>\n",
       "      <td>3.56</td>\n",
       "    </tr>\n",
       "    <tr>\n",
       "      <th>4</th>\n",
       "      <td>14435</td>\n",
       "      <td>Bowl Blaster Toilet Bowl Cleaner</td>\n",
       "      <td>17</td>\n",
       "      <td>5.59</td>\n",
       "    </tr>\n",
       "  </tbody>\n",
       "</table>\n",
       "</div>"
      ],
      "text/plain": [
       "   prod_id                                          prod_name  department_id  \\\n",
       "0    36235              Organic Pure Extra Virgin Coconut Oil             13   \n",
       "1    24879  Pepperidge Farm® Goldfish Queso Fiesta Baked S...             19   \n",
       "2    37062                   Pineapple Coconut Water Enhancer              7   \n",
       "3     7770         Quick-Tie Tall Kitchen Bags Gallon - 35 CT             17   \n",
       "4    14435                   Bowl Blaster Toilet Bowl Cleaner             17   \n",
       "\n",
       "   price  \n",
       "0  12.02  \n",
       "1   4.17  \n",
       "2   8.77  \n",
       "3   3.56  \n",
       "4   5.59  "
      ]
     },
     "execution_count": 2,
     "metadata": {},
     "output_type": "execute_result"
    }
   ],
   "source": [
    "df = pd.read_csv('Data/catalog.csv', engine=\"python\")\n",
    "tdf = pd.read_csv('Data/10000_transactions.csv', engine=\"python\")\n",
    "\n",
    "df.head()"
   ]
  },
  {
   "cell_type": "code",
   "execution_count": 3,
   "metadata": {},
   "outputs": [
    {
     "data": {
      "text/html": [
       "<div>\n",
       "<table border=\"1\" class=\"dataframe\">\n",
       "  <thead>\n",
       "    <tr style=\"text-align: right;\">\n",
       "      <th></th>\n",
       "      <th>order_number</th>\n",
       "      <th>product_id</th>\n",
       "      <th>customer_id</th>\n",
       "      <th>product_name</th>\n",
       "      <th>department_id</th>\n",
       "      <th>price</th>\n",
       "    </tr>\n",
       "  </thead>\n",
       "  <tbody>\n",
       "    <tr>\n",
       "      <th>0</th>\n",
       "      <td>2</td>\n",
       "      <td>33120</td>\n",
       "      <td>202279</td>\n",
       "      <td>Organic Egg Whites</td>\n",
       "      <td>16</td>\n",
       "      <td>5.33</td>\n",
       "    </tr>\n",
       "    <tr>\n",
       "      <th>1</th>\n",
       "      <td>5</td>\n",
       "      <td>48370</td>\n",
       "      <td>156122</td>\n",
       "      <td>Sensitive Toilet Paper</td>\n",
       "      <td>17</td>\n",
       "      <td>9.33</td>\n",
       "    </tr>\n",
       "    <tr>\n",
       "      <th>2</th>\n",
       "      <td>7</td>\n",
       "      <td>46802</td>\n",
       "      <td>142903</td>\n",
       "      <td>Pineapple Chunks</td>\n",
       "      <td>1</td>\n",
       "      <td>6.76</td>\n",
       "    </tr>\n",
       "    <tr>\n",
       "      <th>3</th>\n",
       "      <td>10</td>\n",
       "      <td>3464</td>\n",
       "      <td>135442</td>\n",
       "      <td>Organic Butterhead (Boston, Butter, Bibb) Lettuce</td>\n",
       "      <td>4</td>\n",
       "      <td>9.00</td>\n",
       "    </tr>\n",
       "    <tr>\n",
       "      <th>4</th>\n",
       "      <td>10</td>\n",
       "      <td>25720</td>\n",
       "      <td>135442</td>\n",
       "      <td>Organic Sunchoke</td>\n",
       "      <td>4</td>\n",
       "      <td>10.06</td>\n",
       "    </tr>\n",
       "  </tbody>\n",
       "</table>\n",
       "</div>"
      ],
      "text/plain": [
       "   order_number  product_id  customer_id  \\\n",
       "0             2       33120       202279   \n",
       "1             5       48370       156122   \n",
       "2             7       46802       142903   \n",
       "3            10        3464       135442   \n",
       "4            10       25720       135442   \n",
       "\n",
       "                                        product_name  department_id  price  \n",
       "0                                 Organic Egg Whites             16   5.33  \n",
       "1                             Sensitive Toilet Paper             17   9.33  \n",
       "2                                   Pineapple Chunks              1   6.76  \n",
       "3  Organic Butterhead (Boston, Butter, Bibb) Lettuce              4   9.00  \n",
       "4                                   Organic Sunchoke              4  10.06  "
      ]
     },
     "execution_count": 3,
     "metadata": {},
     "output_type": "execute_result"
    }
   ],
   "source": [
    "tdf.head()"
   ]
  },
  {
   "cell_type": "markdown",
   "metadata": {},
   "source": [
    "## What is the distribution of prices, and how many things cost the same?\n",
    "Let's assess which price amounts are used, and let's look at how many products are costed at each pricing amount."
   ]
  },
  {
   "cell_type": "code",
   "execution_count": 4,
   "metadata": {},
   "outputs": [
    {
     "data": {
      "image/png": "[encoded data removed]",
      "text/plain": [
       "<matplotlib.figure.Figure at 0x1097a3fd0>"
      ]
     },
     "metadata": {},
     "output_type": "display_data"
    }
   ],
   "source": [
    "newPrice = []\n",
    "for price in df['price']:\n",
    "    newPrice.append(round(price, 2))\n",
    "\n",
    "counted = Counter(newPrice)\n",
    "index = np.arange(len(counted.keys()))\n",
    "plt.figure(figsize=(20,9))\n",
    "\n",
    "nns = []\n",
    "for i in range(0, 12):\n",
    "    nns.append(0.99 + 1*i)\n",
    "fns = []\n",
    "for i in range(1, 13):\n",
    "    fns.append(0.497 + 1*i)\n",
    "height = []\n",
    "for i in range(12):\n",
    "    height.append(16)\n",
    "plt.bar(counted.keys(), counted.values(), align='center', color='b', width=0.05, alpha=0.15)\n",
    "plt.bar(nns, height, color='r', align='center', width=0.03, alpha=0.2)\n",
    "plt.bar(fns, height, color='g', align='center', width=0.03, alpha=0.2)\n",
    "\n",
    "plt.axis([0, 13, 0, 16])\n",
    "plt.xlabel('Cost of Product in $')\n",
    "plt.ylabel('Number of Products with the Same Cost')\n",
    "plt.title('Distribution of Products and Costs')\n",
    "plt.show()"
   ]
  },
  {
   "cell_type": "markdown",
   "metadata": {},
   "source": [
    "Green lines mark the \\$\\_.00 pints along the cost axis. Red lines mark the \\$\\_.99 points. Notably, only the \\$1.99 price tag has more products priced at 99 cents than at the adjacent 98 cents or rounded dollar amounts. This could suggest that **more profits could be made**, if [psychological pricing](https://en.wikipedia.org/wiki/Psychological_pricing) is used to motivate pricing models.\n",
    "No items are priced higher than \\$12.55, meaning that this data source is possibly pulled from a distributor which does not sell bulk products, as these tend to be more expensive. "
   ]
  },
  {
   "cell_type": "markdown",
   "metadata": {},
   "source": [
    "While we're at it, let's see which items are being priced on the far left or far right of the range of prices, as well as the tall spike behind the first red line."
   ]
  },
  {
   "cell_type": "code",
   "execution_count": 5,
   "metadata": {},
   "outputs": [
    {
     "name": "stdout",
     "output_type": "stream",
     "text": [
      "Cheapest Items, at $0.85:\n",
      "7 - Chocolate Pu Erh Tea 16 ct\n",
      "11 - Body Wash Pink Grapefruit Body Clear®\n",
      "\n",
      "Most Expensive Items, at $12.55:\n",
      "1 - Old Fashioned Vanilla Frozen Custard\n",
      "16 - Original Strawberry Low Fat Yogurt\n",
      "1 - Cheese Pizza In A Pocket Sandwich\n",
      "\n",
      "Items Most Sharing the Same Cost, at $0.94\n",
      "13 - Organic Ground Coriander\n",
      "4 - Organic Pomegranate\n",
      "19 - Mini Vanilla Chewy Chocolate Nougats\n",
      "2 - Immunity Health, Gummy Bears\n",
      "6 - Plum Sauce\n",
      "19 - Bunny Ears Crisp Wafers in Milk Chocolate\n",
      "19 - Dried Cherry Montmorency Tart\n",
      "1 - All Natural Premium Cornish Hen\n",
      "16 - Original Whipped Cream\n",
      "7 - Organic Lemonade Cherry\n",
      "1 - Pizzeria! Thin Margherita Pizza\n",
      "3 - Gluten Free Blueberry Muffins\n",
      "11 - Allergy Plus Congestion Grape Flavored Liquid\n",
      "11 - Congestion Non-Drowsy Maximum Strength Phenylephrin HCl Tablets\n",
      "4 - Butter Babies Potatoes\n"
     ]
    }
   ],
   "source": [
    "minPrice = min(newPrice)\n",
    "minItems = df[df['price'] == minPrice][['department_id', 'prod_name']]\n",
    "print(\"Cheapest Items, at $%.2f:\" % minPrice)\n",
    "for index, item in minItems.iterrows():\n",
    "    print(\"%i - %s\" % (item['department_id'], item['prod_name']))\n",
    "\n",
    "maxPrice = max(newPrice)\n",
    "maxItems = df[df['price'] == maxPrice][['department_id', 'prod_name']]\n",
    "print(\"\\nMost Expensive Items, at $%.2f:\" % maxPrice)\n",
    "for index, item in maxItems.iterrows():\n",
    "    print(\"%i - %s\" % (item['department_id'], item['prod_name']))\n",
    "\n",
    "maxCount = max(counted, key=counted.get)\n",
    "countItems = df[df['price'] == maxCount][['department_id', 'prod_name']]\n",
    "print(\"\\nItems Most Sharing the Same Cost, at $%.2f\" % maxCount)\n",
    "for index, item in countItems.iterrows():\n",
    "    print(\"%i - %s\" % (item['department_id'], item['prod_name']))"
   ]
  },
  {
   "cell_type": "markdown",
   "metadata": {},
   "source": [
    "The number prefixing each item is the department where that product comes from. We can see that the most expensive products share a common trait: they are **dairy products**. \n",
    "\n",
    "These numbers raise a new question..."
   ]
  },
  {
   "cell_type": "markdown",
   "metadata": {},
   "source": [
    "## How much money are we not making?\n",
    "More items are priced at \\$0.94 than any other. How many of these products are being sold? How much money could be saved if we sold these items for \\$0.99 instead?"
   ]
  },
  {
   "cell_type": "code",
   "execution_count": 6,
   "metadata": {},
   "outputs": [
    {
     "name": "stdout",
     "output_type": "stream",
     "text": [
      "Number of products sold at $0.94: \n",
      "15\n",
      "Profit if sold at $0.99: \n",
      "$0.75\n"
     ]
    }
   ],
   "source": [
    "product094 = df[df['price'] == 0.94]\n",
    "sold094 = len(product094)\n",
    "actualRevenue=sold094*0.94\n",
    "\n",
    "suggestedPrice=0.99\n",
    "suggestedRevenue=0.99 * sold094\n",
    "revenueDelta=suggestedRevenue-actualRevenue\n",
    "\n",
    "print(\"Number of products sold at $0.94: \\n%i\" % sold094)\n",
    "print(\"Profit if sold at $0.99: \\n$%.2f\" % revenueDelta)"
   ]
  },
  {
   "cell_type": "markdown",
   "metadata": {},
   "source": [
    "What if we rounded every price up to the nearest nine-cent value? For example, \\$3.11 becomes \\$3.19. How would the table of Distribution of Price and Costs change, and how much more money would be made?"
   ]
  },
  {
   "cell_type": "code",
   "execution_count": 7,
   "metadata": {
    "scrolled": false
   },
   "outputs": [
    {
     "data": {
      "image/png": "[encoded data removed]",
      "text/plain": [
       "<matplotlib.figure.Figure at 0x1059afc90>"
      ]
     },
     "metadata": {},
     "output_type": "display_data"
    },
    {
     "name": "stdout",
     "output_type": "stream",
     "text": [
      "Amount of money made by rounding up to nearest 9 cents: $183.98\n",
      "Amount of money made by selling every item once with current pricing model: $34504.31\n",
      "Percentage profit gain by using 9-cent rounded model: 0.533%\n"
     ]
    }
   ],
   "source": [
    "def roundx(x):\n",
    "    decimal = x - round(x,1)\n",
    "    if decimal > 0:\n",
    "        floor = round(x, 1)\n",
    "        floor = floor + 0.09\n",
    "        return floor\n",
    "    else:\n",
    "        ceil = round(x, 1)\n",
    "        ceil = ceil - 0.01\n",
    "        return ceil\n",
    "\n",
    "updatedPrices = df.apply(lambda x: roundx(x['price']), axis=1).tolist()\n",
    "newPrice = []\n",
    "for price in updatedPrices:\n",
    "    newPrice.append(round(price, 2))\n",
    "counted=Counter(newPrice)\n",
    "index = np.arange(len(counted.keys()))\n",
    "plt.figure(figsize=(20,9))\n",
    "\n",
    "nns = []\n",
    "for i in range(0, 12):\n",
    "    nns.append(0.99 + 1*i)\n",
    "fns = []\n",
    "for i in range(1, 13):\n",
    "    fns.append(0.49 + 1*i)\n",
    "height = []\n",
    "for i in range(12):\n",
    "    height.append(70)\n",
    "plt.bar(counted.keys(), counted.values(), align='center', color='b', width=0.05, alpha=0.15)\n",
    "plt.bar(nns, height, color='r', align='center', width=0.03, alpha=0.2)\n",
    "plt.bar(fns, height, color='g', align='center', width=0.03, alpha=0.2)\n",
    "\n",
    "plt.axis([0, 13, 0, 70])\n",
    "plt.xlabel('Cost of Product in $')\n",
    "plt.ylabel('Number of Products with the Same Cost')\n",
    "plt.title('UPDATED Distribution of Products and Costs')\n",
    "plt.show()\n",
    "\n",
    "newRevenue = 0\n",
    "currentModelRevenue = 0\n",
    "i = 0\n",
    "for base in df['price']:\n",
    "    newRevenue = newRevenue + (updatedPrices[i] - base)\n",
    "    currentModelRevenue = currentModelRevenue + base\n",
    "    i = i + 1\n",
    "print \"Amount of money made by rounding up to nearest 9 cents: $%.2f\" % newRevenue\n",
    "print \"Amount of money made by selling every item once with current pricing model: $%.2f\" % currentModelRevenue\n",
    "print \"Percentage profit gain by using 9-cent rounded model: %.3f%%\" % (newRevenue / currentModelRevenue * 100)"
   ]
  },
  {
   "cell_type": "markdown",
   "metadata": {},
   "source": [
    "Even after rounding everything up to the nearest 9 cents, there is a surprising lack of emphasis along the red lines which mark 99 cents. The green lines marking 45 cents spike a bit heavier but are not huge either. Rounding prices to the left of these lines to be priced at these lines **might possibly increase revenue without decreasing sales.**\n",
    "\n",
    "The \\$184 value is the total amount of money involved in difference between the current pricing model and this 9-cent rounded model. In other words, if every product was sold once with this rounded model, an additional profit of \\$184 would be made compared to selling every product once with the current model. This is a 0.533% increase in profits."
   ]
  },
  {
   "cell_type": "markdown",
   "metadata": {},
   "source": [
    "## Are some departments more expensive than others?\n",
    "From the previous section, we notice that two of the three most expensive items come from Department 1. Could it be that Department 1 sells particularly expensive items compared to the other departments?"
   ]
  },
  {
   "cell_type": "code",
   "execution_count": 8,
   "metadata": {},
   "outputs": [
    {
     "name": "stdout",
     "output_type": "stream",
     "text": [
      "Average cost of all items: $6.62\n"
     ]
    },
    {
     "data": {
      "image/png": "[encoded data removed]",
      "text/plain": [
       "<matplotlib.figure.Figure at 0x109e1da10>"
      ]
     },
     "metadata": {},
     "output_type": "display_data"
    }
   ],
   "source": [
    "avgCost = df['price'].mean()\n",
    "print(\"Average cost of all items: $%.2f\" % avgCost)\n",
    "\n",
    "costByID = df.groupby(['department_id', 'price']).sum().reset_index().groupby('department_id').mean()\n",
    "\n",
    "groups = 21\n",
    "plt.figure(figsize=(20,9))\n",
    "\n",
    "index = np.arange(groups)\n",
    "bar_width = 0.6\n",
    "\n",
    "opacity = 0.4\n",
    "\n",
    "rects = plt.bar(index, costByID['price'], bar_width,\n",
    "                 alpha=opacity,\n",
    "                 color='g',\n",
    "                 label='Cost in $')\n",
    "\n",
    "plt.xlabel('Department #')\n",
    "plt.ylabel('Cost in $')\n",
    "plt.title('Average Cost of Items per Department')\n",
    "\n",
    "plt.xticks(index + bar_width / 2, range(0, 22))\n",
    "\n",
    "plt.axis([1, 21, 0, 8])\n",
    "plt.legend()\n",
    "plt.tight_layout()\n",
    "plt.show()"
   ]
  },
  {
   "cell_type": "markdown",
   "metadata": {},
   "source": [
    "**Department 9** is particularly cheaper than others. This suggests that Department 9 contains items often sold cheaply, such as candy. It would be wise to define what is sold in this Department and that items from this department are expected to be cheap; if not, this could be an opportunity to raise prices for these products.\n",
    "\n",
    "It turns out that Department 1 is not the most expensive item. Instead, **Department 3** is a bit more expensive than the rest. This suggests that Department 3 contains more premium products such as gluten free or organic offerings. Alternatively, the most generally expensive products are in this department, such as meat.\n",
    "\n",
    "By looking at the product catalog, we might be able to identify departments based on their products."
   ]
  },
  {
   "cell_type": "code",
   "execution_count": null,
   "metadata": {},
   "outputs": [],
   "source": []
  },
  {
   "cell_type": "markdown",
   "metadata": {},
   "source": [
    "## Are gluten free or organic products more expensive?\n",
    "We've seen that some products are listed as \"Gluten Free\", \"GF\", or \"Organic\". Our observations about the expensive Department 3 make us hypothesize that many of these health-sensitive products are contained in this department. Overall, we can look at products labeled with the above words, and see if they are more expensive than other products."
   ]
  },
  {
   "cell_type": "code",
   "execution_count": 9,
   "metadata": {},
   "outputs": [
    {
     "name": "stdout",
     "output_type": "stream",
     "text": [
      "592 organic/GF products\n",
      "4629 other products\n",
      "12.8% of products are organic/GF\n"
     ]
    },
    {
     "data": {
      "image/png": "[encoded data removed]",
      "text/plain": [
       "<matplotlib.figure.Figure at 0x10d7f95d0>"
      ]
     },
     "metadata": {},
     "output_type": "display_data"
    },
    {
     "name": "stdout",
     "output_type": "stream",
     "text": [
      "Organic is cheaper than global average by 2.1%.\n"
     ]
    }
   ],
   "source": [
    "# Get target, a DF of all organic and gluten free products\n",
    "df['prod_name'] = df['prod_name'].str.lower()\n",
    "organic = df[df['prod_name'].str.contains(\"organic\")]\n",
    "glutenFree = df[df['prod_name'].str.contains(\"gluten free\")]\n",
    "gF = df[df['prod_name'].str.contains(\"gf\")]\n",
    "frames = [organic, glutenFree, gF]\n",
    "target = pd.concat(frames)\n",
    "\n",
    "# Get others, a DF of all products which are not in target\n",
    "ds1 = set([ tuple(line) for line in target.values.tolist()])\n",
    "ds2 = set([ tuple(line) for line in df.values.tolist()])\n",
    "others = pd.DataFrame(list(ds2.difference(ds1)))\n",
    "others.columns = target.columns.tolist()\n",
    "\n",
    "print(\"%i organic/GF products\\n%i other products\" % (len(target), len(others)))\n",
    "percentHealth = len(target)*1.0/len(others)*100\n",
    "print(\"%.1f%% of products are organic/GF\" % percentHealth)\n",
    "\n",
    "# Get average of all target products, and of all others products.\n",
    "healthAvg = target['price'].mean()\n",
    "otherAvg = others['price'].mean()\n",
    "\n",
    "avgList = [healthAvg, otherAvg]\n",
    "\n",
    "groups = 2\n",
    "\n",
    "index = np.arange(groups)\n",
    "bar_width = 1\n",
    "\n",
    "opacity = 0.4\n",
    "plt.figure(figsize=(4,3))\n",
    "\n",
    "rects = plt.bar(index, avgList, bar_width, align='center', alpha=opacity)\n",
    "rects[0].set_color('g')\n",
    "rects[1].set_color('grey')\n",
    "\n",
    "plt.ylabel('Cost in $')\n",
    "plt.title('Organic/GF Product Cost vs. Other Product Cost')\n",
    "labels = [\"Organic/GF\", \"Other\"]\n",
    "plt.xticks(index, labels)\n",
    "\n",
    "plt.tight_layout()\n",
    "plt.show()\n",
    "\n",
    "organicPercentage = (1 - healthAvg*1.0 / avgCost) * 100\n",
    "print(\"Organic is cheaper than global average by %.1f%%.\" % organicPercentage)"
   ]
  },
  {
   "cell_type": "markdown",
   "metadata": {},
   "source": [
    "Turns out, eater-sensitive products are cheaper than the average non-sensitive product, and cheaper than the global average by 2.1%! This could be a great **advertising point**, to encourage customers to make healthy choices!"
   ]
  },
  {
   "cell_type": "markdown",
   "metadata": {},
   "source": [
    "## Which departments carry the most organic products? Which ones sell?\n",
    "We don't want to carry products that don't sell well. We can combine transaction and catalog data to find how many organic products are offered and sold in each department."
   ]
  },
  {
   "cell_type": "code",
   "execution_count": null,
   "metadata": {},
   "outputs": [],
   "source": []
  },
  {
   "cell_type": "markdown",
   "metadata": {},
   "source": [
    "## What are the most popular elements of products?\n",
    "There is lots of transaction data which records what customers buy. Of all the things they buy, which words describe the most popular products?"
   ]
  },
  {
   "cell_type": "code",
   "execution_count": 10,
   "metadata": {},
   "outputs": [],
   "source": [
    "commonWords = Counter(\" \".join(tdf[\"product_name\"]).split()).most_common(100)\n",
    "def generateWordCloudString(tuples):\n",
    "    wcString = \"\"\n",
    "    for t in tuples:\n",
    "        t_lower = t[0].lower()\n",
    "        for count in range(t[1]/10):\n",
    "            wcString = \" \" + t_lower + wcString\n",
    "    return wcString\n",
    "\n",
    "wcWords = generateWordCloudString(commonWords)\n",
    "# exportWCText(wcWords)\n",
    "\n",
    "def exportWCText(wcString):\n",
    "    with open(\"Output.txt\", \"w\") as text_file:\n",
    "        text_file.write(\"{0}\".format(wcWords))\n",
    "#     Word cloud generated with: https://www.jasondavies.com/wordcloud/"
   ]
  },
  {
   "attachments": {
    "popular%20products.svg": {
     "image/svg+xml": [
      "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"
     ]
    }
   },
   "cell_type": "markdown",
   "metadata": {},
   "source": [
    "![popular%20products.svg](attachment:popular%20products.svg)\n",
    "\n",
    "We can see that organic products are highly valued by customers who shop here. Any of the following could be at play as a cause or an effect of this observation:\n",
    "- As previously observed, organic products are cheap here.\n",
    "- There is a large selection of produce.\n",
    "- The store's brand is one well-known for healthy products."
   ]
  },
  {
   "cell_type": "markdown",
   "metadata": {},
   "source": [
    "## Who are the best customers? Why do they keep coming back?\n",
    "Transaction data also keeps track of who buys what. Is there anything in common with what the most frequent shoppers buy that might keep them coming back? Or might there be anything we could learn from those customers that have only shopped once?"
   ]
  },
  {
   "cell_type": "code",
   "execution_count": 11,
   "metadata": {
    "scrolled": true
   },
   "outputs": [
    {
     "name": "stdout",
     "output_type": "stream",
     "text": [
      "6409\n",
      "60694\n",
      "100330\n",
      "5360\n",
      "127427\n",
      "168651\n",
      "87634\n",
      "127525\n",
      "34200\n",
      "199862\n"
     ]
    }
   ],
   "source": [
    "commonCust = Counter(tdf[\"customer_id\"]).most_common(100)\n",
    "for i in range(10):\n",
    "    print commonCust[i][0]"
   ]
  },
  {
   "cell_type": "markdown",
   "metadata": {},
   "source": [
    "Each customer is assigned an id number unique to them. When they make a purchase, their activity is logged along with their id. We can use this id to analyze these frequent shopper's purchases. "
   ]
  },
  {
   "cell_type": "code",
   "execution_count": 12,
   "metadata": {},
   "outputs": [],
   "source": [
    "productPool = []\n",
    "for custID in commonCust:\n",
    "    custProductsDF = tdf[tdf['customer_id'] == custID[0]]\n",
    "    custProducts = custProductsDF['product_name'].tolist()\n",
    "    productPool.extend(custProducts)\n",
    "\n",
    "commonProduct = Counter(\" \".join(productPool).split()).most_common(100)\n",
    "    \n",
    "wcProdWords = generateWordCloudString(commonProduct)\n",
    "# exportWCText(wcProdWords)"
   ]
  },
  {
   "attachments": {
    "popular%20customer%20products.svg": {
     "image/svg+xml": [
      "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"
     ]
    }
   },
   "cell_type": "markdown",
   "metadata": {},
   "source": [
    "![popular%20customer%20products.svg](attachment:popular%20customer%20products.svg)\n",
    "\n",
    "These look very similar to the most popular products overall. Are there any words or products that regular customers purchase that are not in the pool of most popular products?"
   ]
  },
  {
   "cell_type": "code",
   "execution_count": 13,
   "metadata": {},
   "outputs": [
    {
     "name": "stdout",
     "output_type": "stream",
     "text": [
      "spread\n",
      "blended\n",
      "cinnamon\n",
      "2\n",
      "skim\n",
      "spinach,\n",
      "ginger\n",
      "hazelnut\n",
      "pear\n"
     ]
    }
   ],
   "source": [
    "allWords = wcWords.split()\n",
    "popWords = wcProdWords.split()\n",
    "\n",
    "def diff(first, second):\n",
    "    second = set(second)\n",
    "    return [item for item in first if item not in second]\n",
    "\n",
    "popOnly = diff(popWords, allWords)\n",
    "for word in popOnly:\n",
    "    print word"
   ]
  },
  {
   "cell_type": "markdown",
   "metadata": {},
   "source": [
    "Some of these words seem to be incomplete names of products. Let's see which products these words are actually referring to."
   ]
  },
  {
   "cell_type": "code",
   "execution_count": 14,
   "metadata": {},
   "outputs": [
    {
     "name": "stdout",
     "output_type": "stream",
     "text": [
      "Light Vegetable Oil Spread\n",
      "Hazelnut Spread With Skim Milk & Cocoa\n",
      "Soy Free Buttery Spread\n",
      "Cream Cheese Cream Cheese Spread\n",
      "Organic Blended Raspberry Whole Milk Greek Yogurt\n",
      "Organic Greek Whole Milk Blended Strawberry Yogurt\n",
      "Greek Whole Milk Blended Blueberry Yogurt\n",
      "Peach Mango Stage 2 Baby Food\n",
      "Baby Food Stage 2 Blueberry Pear & Purple Carrot\n",
      "Organic Stage 2 Winter Squash Baby Food Puree\n",
      "Skim Milk\n",
      "Hazelnut Spread With Skim Milk & Cocoa\n",
      "Mozzarella Light Low Moisture Part Skim String Cheese\n",
      "Little Yums Spinach, Apple, and Kale Teething Wafers\n",
      "Super Foods/Organic Apples, Spinach, Peas & Broccoli + Super Chia Snack Pouch\n",
      "Super Spinach! Baby Spinach, Baby Bok Choy, Sweet Baby Kale\n"
     ]
    }
   ],
   "source": [
    "spread = set([s for s in productPool if \"Spread\" in s])\n",
    "blended = set([s for s in productPool if \"Blended\" in s])\n",
    "two = set([s for s in productPool if \" 2 \" in s])\n",
    "skim = set([s for s in productPool if \"Skim\" in s])\n",
    "spinach = set([s for s in productPool if \"Spinach,\" in s])\n",
    "\n",
    "foodLists = [spread, blended, two, skim, spinach]\n",
    "specificFoods = []\n",
    "for l in foodLists:\n",
    "    for item in l:\n",
    "        print item"
   ]
  },
  {
   "cell_type": "markdown",
   "metadata": {},
   "source": [
    "Looking through this list reveals at least the following observations:\n",
    "- Baby Food in many of its various forms are valued products. The data suggests that **parents are concerned about their little ones eating well early in life.** This detail might motivate promotional events, sales, or advertising for baby food products.\n",
    "- \"Hazelnut Spread With Skim Milk & Cocoa\" is a valued product, as it represents two popular products, namely Hazelnut and Spread, in one.\n",
    "- Blended Yogurt is a valued product.\n",
    "These seem to be more specialty items compared to general products like chicken or milk, but something about the price or quality of these items **keep customers coming back**. \n",
    "\n",
    "Distributors should consider making sure these products stay available. These products are prime targets for putting on sale to draw in new regular customers and improve customer satisfaction."
   ]
  },
  {
   "cell_type": "markdown",
   "metadata": {},
   "source": [
    "## What do customers buy together?\n",
    "Customers often buy multiple products at once. Sometimes, they buy products because those items go together. For example, if a customer buys lunch meat, we could reasonably expect them to purchase bread, mustard, or lettuce on the same visit. If we know what items customers buy together, we can organize marketing, store layouts, and more to increase sales and improve the customer experience."
   ]
  },
  {
   "cell_type": "code",
   "execution_count": null,
   "metadata": {},
   "outputs": [],
   "source": []
  },
  {
   "cell_type": "markdown",
   "metadata": {},
   "source": [
    "# Summary\n",
    "- Graphs of pricing show a lack of psychological pricing. Distributor might consider rounding prices up (or down in some cases) in order to maximize profits and increase sales.\n",
    "- The most expensive products on sale are dairy products.\n",
    "- Many products from Department 3 are priced around \\$4. Distributor might ensure that this is correct and that potential profits are not being lost from products in this department.\n",
    "- On average, organic and gluten free products are 2% cheaper than the average product. Distributor might consider using this as point in advertising.\n",
    "- Products such as spinach, ginger, and pear are purchased more frequently by returning customers than by the average customer. Distributor might consider ensuring the availability of these products, making them easily accessible, or providing promotions."
   ]
  },
  {
   "cell_type": "code",
   "execution_count": null,
   "metadata": {},
   "outputs": [],
   "source": []
  }
 ],
 "metadata": {
  "kernelspec": {
   "display_name": "Python 2",
   "language": "python",
   "name": "python2"
  },
  "language_info": {
   "codemirror_mode": {
    "name": "ipython",
    "version": 2
   },
   "file_extension": ".py",
   "mimetype": "text/x-python",
   "name": "python",
   "nbconvert_exporter": "python",
   "pygments_lexer": "ipython2",
   "version": "2.7.10"
  }
 },
 "nbformat": 4,
 "nbformat_minor": 2
}
